{
 "cells": [
  {
   "cell_type": "markdown",
   "id": "2e6bc2a0",
   "metadata": {},
   "source": [
    "## FUNCTION TO IDENTIFY THE HOTSPOTS IN A MESH DATA"
   ]
  },
  {
   "cell_type": "markdown",
   "id": "63cacfc1",
   "metadata": {},
   "source": [
    "##### Objective\n",
    "\n",
    "This code is to identify the hotspots or peak points in the mesh data with respect to the value of each mesh.\n",
    "Each Element/Mesh has its value.\n",
    "\n",
    "Each mesh/ Element was represented with and MeshID/ElementID and three nodes by which the mesh created.\n",
    "\n",
    "And every mesh has three nodes(Triangle), Each Node is represented with NodeID and its 2D cordinates.\n",
    "\n",
    "Nodes id represented by N1,N2,N3...\n",
    "\n",
    "Elements id represented by E1,E2,E3,E4....."
   ]
  },
  {
   "cell_type": "markdown",
   "id": "ec3ac24e",
   "metadata": {},
   "source": [
    "##### Input to the the function should be in three dictionaries.\n",
    "\n",
    "Dict-1 is Node with its cordinates\n",
    "\n",
    "Dict-2 is Elements with the nodes it created\n",
    "\n",
    "Dict-3 is Element with its value\n",
    "\n",
    "\n",
    "\n",
    "##### Below are the three dictionaries example\n",
    "\n",
    "Dict-1 ={N1:[1,1],N2:[2,1],N3:[1,2], ........}\n",
    "\n",
    "Dict-2 = {E1:[1,2,3],E2:[2,3,4],E3:[9,9,9],E4:[1,3,9],E5:[45,2,45],E6:[55,55,55],E7:[5,45,55],.......}\n",
    "\n",
    "Dict-3 = {E1:.55,E2:.01,E3:.79,E4:.11,E5:.12,E6:.888,E7:.688,E8:.788,E9:.888,.............}\n",
    "\n",
    "\n",
    "\n",
    "\n",
    "##### To Run the Function,have to call the function with the input Dict-2, and Dict-3 \n",
    "\n",
    "A sample code to call the function below\n",
    "\n",
    "Hotspots = Hot_Spot_Identification (Dict-2,Dict-3):\n",
    "\n",
    "\n",
    "\n",
    "\n",
    "##### Output will return a dictionary with the ID of hot spots with its value as below.\n",
    "\n",
    "Hotspots = {E1:.55,E5:.12,E9:.888,....}"
   ]
  },
  {
   "cell_type": "markdown",
   "id": "344ef1b1",
   "metadata": {},
   "source": [
    "## Read the Text file"
   ]
  },
  {
   "cell_type": "code",
   "execution_count": 50,
   "id": "cbfde020",
   "metadata": {},
   "outputs": [],
   "source": [
    "with open('mesh_nodes.txt') as node:\n",
    "    lines_n = node.readlines()\n",
    "with open('mesh_values.txt') as value:\n",
    "    lines_v = value.readlines()\n",
    "with open('mesh_element.txt') as element:\n",
    "    lines_e = element.readlines()"
   ]
  },
  {
   "cell_type": "code",
   "execution_count": 59,
   "id": "6e6cc7aa",
   "metadata": {},
   "outputs": [],
   "source": [
    "#lines_n"
   ]
  },
  {
   "cell_type": "code",
   "execution_count": 60,
   "id": "0805f38c",
   "metadata": {
    "scrolled": false
   },
   "outputs": [],
   "source": [
    "#lines_v"
   ]
  },
  {
   "cell_type": "code",
   "execution_count": 61,
   "id": "412cad76",
   "metadata": {},
   "outputs": [],
   "source": [
    "#lines_e"
   ]
  },
  {
   "cell_type": "markdown",
   "id": "da16686c",
   "metadata": {},
   "source": [
    "## Defining Nescessary Functions"
   ]
  },
  {
   "cell_type": "markdown",
   "id": "162350ce",
   "metadata": {},
   "source": [
    "##### Functions for Data clearning and Txt to Dict convertion"
   ]
  },
  {
   "cell_type": "code",
   "execution_count": 51,
   "id": "e1acaf81",
   "metadata": {},
   "outputs": [],
   "source": [
    "#Converting all the value txts into dict\n",
    "def Values_To_Dic(lines_v):\n",
    "    l=[]\n",
    "    d_values={}\n",
    "    for x in lines_v:\n",
    "        p=x.strip()\n",
    "        p=p.replace(\" \",\"\")\n",
    "        p=p.replace(\"'\",\"\")\n",
    "        p=p.split(\",\")\n",
    "\n",
    "        if len(p) < 2:\n",
    "            continue\n",
    "        else:\n",
    "            d_values[int(p[0])]=float(p[1])\n",
    "    return (d_values)\n"
   ]
  },
  {
   "cell_type": "code",
   "execution_count": 52,
   "id": "8a774598",
   "metadata": {
    "scrolled": true
   },
   "outputs": [],
   "source": [
    "#converting all the Elements test into dictionary\n",
    "def Elements_To_Dic (lines_e):\n",
    "    l=[]\n",
    "    d_elements={}\n",
    "    for x in lines_e:\n",
    "        p=x.strip()\n",
    "        p=p.replace(\" \",\"\")\n",
    "        p=p.replace(\"'\",\"\")\n",
    "        p=p.split(\",\")\n",
    "        if len(p) < 4:\n",
    "            continue\n",
    "        else:\n",
    "            d_elements[int(p[0])]=[int(p[1]),int(p[2]),int(p[3])]\n",
    "    return (d_elements)"
   ]
  },
  {
   "cell_type": "markdown",
   "id": "6812eaab",
   "metadata": {},
   "source": [
    "##### Functions to identify the Hot spots in the Mesh Data"
   ]
  },
  {
   "cell_type": "code",
   "execution_count": 53,
   "id": "44e4347c",
   "metadata": {
    "scrolled": true
   },
   "outputs": [],
   "source": [
    "# TO FIND THE NEIGHBHOURS OF EACH NODE\n",
    "def Hot_Spot_Identification (nodes,value):\n",
    "    hot_spot,hot_spots=[],{}\n",
    "    for k,v in nodes.items(): #k=1, v=[1,2,3]\n",
    "        neighbours,neighbours_val=[],[]\n",
    "        for k1,v1 in nodes.items():#v=[0,1,2]\n",
    "            if any(x in v1 for x in v) :\n",
    "                if k1==k:\n",
    "                    continue\n",
    "                else:\n",
    "                    neighbours.append(k1) #[1,2,5,8,9]\n",
    "                    neighbours_val.append(value[k1]) #[.55,.88,.95,.88]\n",
    "                    \n",
    "        if max(neighbours_val) < value[k]:\n",
    "            hot_spot.append(k)\n",
    "            hot_spots[k]=value[k]\n",
    "        #print(k,neighbours,neighbours_val)\n",
    "    return hot_spots"
   ]
  },
  {
   "cell_type": "markdown",
   "id": "a3a73605",
   "metadata": {},
   "source": [
    "## Calling Functions"
   ]
  },
  {
   "cell_type": "markdown",
   "id": "11267daa",
   "metadata": {},
   "source": [
    "##### Below functions to conver the txt format into dictionary format and Data cleaning"
   ]
  },
  {
   "cell_type": "code",
   "execution_count": 43,
   "id": "ec5e30e6",
   "metadata": {},
   "outputs": [],
   "source": [
    "d_elements=Elements_To_Dic (lines_e)\n",
    "d_values=Values_To_Dic(lines_v)"
   ]
  },
  {
   "cell_type": "markdown",
   "id": "e7bff442",
   "metadata": {},
   "source": [
    "##### Below functions to Identify the Hot spots in the Mesh Data"
   ]
  },
  {
   "cell_type": "code",
   "execution_count": 68,
   "id": "b3ec8a3f",
   "metadata": {},
   "outputs": [
    {
     "name": "stdout",
     "output_type": "stream",
     "text": [
      "Total runtime of the code is 0.044972896575927734\n"
     ]
    }
   ],
   "source": [
    "import time\n",
    "begin = time.time()\n",
    "Hotspots=Hot_Spot_Identification(d_elements,d_values) # pass the dict with elements nodes and elements value ,\n",
    "end = time.time()\n",
    "print(f\"Total runtime of the code is {end-begin}\")"
   ]
  },
  {
   "cell_type": "code",
   "execution_count": 56,
   "id": "e3c9ec30",
   "metadata": {
    "scrolled": false
   },
   "outputs": [
    {
     "data": {
      "text/plain": [
       "{0: 0.118852,\n",
       " 8: 4.36126,\n",
       " 16: 9.10418,\n",
       " 105: 2.28934,\n",
       " 112: 7.0217,\n",
       " 180: 0.0766857,\n",
       " 189: 3.1294,\n",
       " 196: 5.41041}"
      ]
     },
     "execution_count": 56,
     "metadata": {},
     "output_type": "execute_result"
    }
   ],
   "source": [
    "Hotspots"
   ]
  }
 ],
 "metadata": {
  "kernelspec": {
   "display_name": "Python 3",
   "language": "python",
   "name": "python3"
  },
  "language_info": {
   "codemirror_mode": {
    "name": "ipython",
    "version": 3
   },
   "file_extension": ".py",
   "mimetype": "text/x-python",
   "name": "python",
   "nbconvert_exporter": "python",
   "pygments_lexer": "ipython3",
   "version": "3.8.8"
  }
 },
 "nbformat": 4,
 "nbformat_minor": 5
}
