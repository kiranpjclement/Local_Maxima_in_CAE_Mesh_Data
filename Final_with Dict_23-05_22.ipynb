{
 "cells": [
  {
   "cell_type": "markdown",
   "id": "2e6bc2a0",
   "metadata": {},
   "source": [
    "# TO IDENTIFY THE LOCAL MAX  IN A MESH DATA"
   ]
  },
  {
   "cell_type": "markdown",
   "id": "63cacfc1",
   "metadata": {},
   "source": [
    "##### Objective\n",
    "\n",
    "This code is to identify the hotspots or peak points in the mesh data with respect to the value of each mesh.\n",
    "Each Element/Mesh has its value.\n",
    "\n",
    "Each mesh/ Element was represented with and MeshID/ElementID and three nodes by which the mesh created.\n",
    "\n",
    "And every mesh has three nodes(Triangle), Each Node is represented with NodeID and its 2D cordinates.\n",
    "\n",
    "Nodes id represented by N1,N2,N3...\n",
    "\n",
    "Elements id represented by E1,E2,E3,E4....."
   ]
  },
  {
   "cell_type": "markdown",
   "id": "ec3ac24e",
   "metadata": {},
   "source": [
    "##### Input to the the function should be in three dictionaries.\n",
    "\n",
    "Dict-1 is Node with its cordinates\n",
    "\n",
    "Dict-2 is Elements with the nodes it created\n",
    "\n",
    "Dict-3 is Element with its value\n",
    "\n",
    "\n",
    "\n",
    "##### Below are the three dictionaries example\n",
    "\n",
    "Dict-1 ={N1:[1,1],N2:[2,1],N3:[1,2], ........}\n",
    "\n",
    "Dict-2 = {E1:[1,2,3],E2:[2,3,4],E3:[9,9,9],E4:[1,3,9],E5:[45,2,45],E6:[55,55,55],E7:[5,45,55],.......}\n",
    "\n",
    "Dict-3 = {E1:.55,E2:.01,E3:.79,E4:.11,E5:.12,E6:.888,E7:.688,E8:.788,E9:.888,.............}\n",
    "\n",
    "\n",
    "\n",
    "\n",
    "##### To Run the Function,have to call the function with the input Dict-2, and Dict-3 \n",
    "\n",
    "A sample code to call the function below\n",
    "\n",
    "Hotspots = Hot_Spot_Identification (Dict-2,Dict-3):\n",
    "\n",
    "\n",
    "\n",
    "\n",
    "##### Output will return a dictionary with the ID of hot spots with its value as below.\n",
    "\n",
    "Hotspots = {E1:.55,E5:.12,E9:.888,....}"
   ]
  },
  {
   "cell_type": "markdown",
   "id": "6b174639",
   "metadata": {},
   "source": [
    "# i .LOCAL MAX FOR DUMMY DATA IN DICTIONARY FORM"
   ]
  },
  {
   "cell_type": "markdown",
   "id": "2103db94",
   "metadata": {},
   "source": [
    "## Dummy Data"
   ]
  },
  {
   "cell_type": "code",
   "execution_count": 48,
   "id": "776b1020",
   "metadata": {},
   "outputs": [],
   "source": [
    "nodes = {1:[28,26,27],2:[1,26,27],3:[1,2,26],4:[1,27,19],5:[26,28,29],6:[2,25,26],7:[24,26,30],8:[26,29,30],9:[24,30,31],10:[24,25,26],11:[6,13,24],\n",
    "12:[6,7,13],13:[24,25,6],14:[2,6,25],15:[2,5,6] ,16:[5,3,2],17:[1,2,3] ,18:[1,3,18],19:[3,9,18],38:[1,19,18]}\n",
    "\n",
    "values={1:18,2:18,3:18,4:18,5:18,6:18,7:18,8:18,9:11.5,10:9,11:13,12:50,13:900,14:4,15:10,16:14,17:1,18:10,19:11,38:11}"
   ]
  },
  {
   "cell_type": "markdown",
   "id": "8a1e226f",
   "metadata": {},
   "source": [
    "## Calling Function to Identify Local Max"
   ]
  },
  {
   "cell_type": "code",
   "execution_count": 49,
   "id": "8e516396",
   "metadata": {},
   "outputs": [
    {
     "name": "stdout",
     "output_type": "stream",
     "text": [
      "Total runtime of the code is 0.0009996891021728516\n"
     ]
    }
   ],
   "source": [
    "import time\n",
    "begin = time.time()\n",
    "Lm=Local_Max()\n",
    "All_local_max=[] #declare a list to store all the local max elements\n",
    "for k,n in nodes.items(): #k=1, n=[1,2,3]\n",
    "    neighbours,neighbours_val=[],[]\n",
    "    neighbours_nodes,neighbours_val =Lm.Neighbhour(nodes,values,k) #call function to get the local neighbhour\n",
    "    local_max=Lm.Local_max_points(k,values[k],neighbours_val) #call function to check if it is local-max or not\n",
    "    if hotspot :All_local_max.append(local_max) # appending to the list in case it is a local-max\n",
    "All_local_max\n",
    "end = time.time()\n",
    "print(f\"Total runtime of the code is {end-begin}\")"
   ]
  },
  {
   "cell_type": "markdown",
   "id": "da16686c",
   "metadata": {},
   "source": [
    "## Defining Function for Local_Max"
   ]
  },
  {
   "cell_type": "code",
   "execution_count": 50,
   "id": "cccac6e5",
   "metadata": {},
   "outputs": [],
   "source": [
    "class Local_Max:\n",
    "    \n",
    "    def Neighbhour (self,nodes,value,k):\n",
    "        neighbours_nodes,neighbours_val={},{}\n",
    "        for k1,v1 in nodes.items():#nodes[k]=[0,1,2]\n",
    "            if any(x in v1 for x in nodes[k]) :\n",
    "                if k1==k: continue\n",
    "                else:neighbours_nodes[k1],neighbours_val[k1]=v1,value[k1]\n",
    "        return neighbours_nodes,neighbours_val #return the dict with neibhor elemets values and nodes\n",
    "\n",
    "    def Local_max_points(self,k,v,neighbours_val):\n",
    "        vals=[]\n",
    "        for k2,v2 in neighbours_val.items():\n",
    "            vals.append(v2)\n",
    "        if max(vals) < v:# or max(vals)== v:\n",
    "            return k \n",
    "        elif max(vals)== v: \n",
    "            if all(vals) != v:# this line will check if the element&neighbhours are a local platuae or not\n",
    "                return k         "
   ]
  },
  {
   "cell_type": "markdown",
   "id": "f811b45f",
   "metadata": {},
   "source": [
    "# ii .READING Txt FILES AND DATA CLEANING AND DATA CONVERTION"
   ]
  },
  {
   "cell_type": "markdown",
   "id": "3c3a522d",
   "metadata": {},
   "source": [
    "#### Read the Text file"
   ]
  },
  {
   "cell_type": "code",
   "execution_count": 51,
   "id": "28da26c7",
   "metadata": {},
   "outputs": [],
   "source": [
    "with open('mesh_nodes.txt') as node: #read the coordinates of each nodes\n",
    "    lines_n = node.readlines()\n",
    "with open('mesh_values.txt') as value:#read the value of each element\n",
    "    lines_v = value.readlines()\n",
    "with open('mesh_element.txt') as element: #read the nodes in each element\n",
    "    lines_e = element.readlines()"
   ]
  },
  {
   "cell_type": "markdown",
   "id": "81be18d8",
   "metadata": {},
   "source": [
    "##### Calling functions for data cleaningand and convert the txt format into dictionary format\n",
    "##### This function is specific for the type of  data received"
   ]
  },
  {
   "cell_type": "code",
   "execution_count": 52,
   "id": "0ba1fc60",
   "metadata": {
    "scrolled": true
   },
   "outputs": [],
   "source": [
    "Dc=Data_Cleaning_to_Dict()\n",
    "\n",
    "nodes=Dc.Elements_To_Dic(lines_e)\n",
    "values=Dc.Values_To_Dic(lines_v)"
   ]
  },
  {
   "cell_type": "markdown",
   "id": "46a50346",
   "metadata": {},
   "source": [
    "##### Functions for Data clearning and Txt to Dict convertion"
   ]
  },
  {
   "cell_type": "code",
   "execution_count": 53,
   "id": "6ecdfe78",
   "metadata": {},
   "outputs": [],
   "source": [
    "class Data_Cleaning_to_Dict:\n",
    "    #Converting all the value txts into dict\n",
    "    def Values_To_Dic(self,lines_v):\n",
    "        l=[]\n",
    "        d_values={}\n",
    "        for x in lines_v:\n",
    "            p=x.strip()\n",
    "            p=p.replace(\" \",\"\")\n",
    "            p=p.replace(\"'\",\"\")\n",
    "            p=p.split(\",\")\n",
    "            if len(p) < 2:\n",
    "                continue\n",
    "            else: d_values[int(p[0])]=float(p[1])               \n",
    "        return (d_values)\n",
    "    #converting all the Elements test into dictionary\n",
    "    def Elements_To_Dic (self,lines_e):\n",
    "        l=[]\n",
    "        d_elements={}\n",
    "        for x in lines_e:\n",
    "            p=x.strip()\n",
    "            p=p.replace(\" \",\"\")\n",
    "            p=p.replace(\"'\",\"\")\n",
    "            p=p.split(\",\")\n",
    "            if len(p) < 4:\n",
    "                continue\n",
    "            else: d_elements[int(p[0])]=[int(p[1]),int(p[2]),int(p[3])]               \n",
    "        return (d_elements)"
   ]
  }
 ],
 "metadata": {
  "kernelspec": {
   "display_name": "Python 3",
   "language": "python",
   "name": "python3"
  },
  "language_info": {
   "codemirror_mode": {
    "name": "ipython",
    "version": 3
   },
   "file_extension": ".py",
   "mimetype": "text/x-python",
   "name": "python",
   "nbconvert_exporter": "python",
   "pygments_lexer": "ipython3",
   "version": "3.8.8"
  }
 },
 "nbformat": 4,
 "nbformat_minor": 5
}
