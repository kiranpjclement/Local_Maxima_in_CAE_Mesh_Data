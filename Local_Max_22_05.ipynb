{
 "cells": [
  {
   "cell_type": "markdown",
   "id": "2e6bc2a0",
   "metadata": {},
   "source": [
    "## FUNCTION TO IDENTIFY THE HOTSPOTS IN A MESH DATA"
   ]
  },
  {
   "cell_type": "markdown",
   "id": "63cacfc1",
   "metadata": {},
   "source": [
    "##### Objective\n",
    "\n",
    "This code is to identify the hotspots or peak points in the mesh data with respect to the value of each mesh.\n",
    "Each Element/Mesh has its value.\n",
    "\n",
    "Each mesh/ Element was represented with and MeshID/ElementID and three nodes by which the mesh created.\n",
    "\n",
    "And every mesh has three nodes(Triangle), Each Node is represented with NodeID and its 2D cordinates.\n",
    "\n",
    "Nodes id represented by N1,N2,N3...\n",
    "\n",
    "Elements id represented by E1,E2,E3,E4....."
   ]
  },
  {
   "cell_type": "markdown",
   "id": "ec3ac24e",
   "metadata": {},
   "source": [
    "##### Input to the the function should be in three dictionaries.\n",
    "\n",
    "Dict-1 is Node with its cordinates\n",
    "\n",
    "Dict-2 is Elements with the nodes it created\n",
    "\n",
    "Dict-3 is Element with its value\n",
    "\n",
    "\n",
    "\n",
    "##### Below are the three dictionaries example\n",
    "\n",
    "Dict-1 ={N1:[1,1],N2:[2,1],N3:[1,2], ........}\n",
    "\n",
    "Dict-2 = {E1:[1,2,3],E2:[2,3,4],E3:[9,9,9],E4:[1,3,9],E5:[45,2,45],E6:[55,55,55],E7:[5,45,55],.......}\n",
    "\n",
    "Dict-3 = {E1:.55,E2:.01,E3:.79,E4:.11,E5:.12,E6:.888,E7:.688,E8:.788,E9:.888,.............}\n",
    "\n",
    "\n",
    "\n",
    "\n",
    "##### To Run the Function,have to call the function with the input Dict-2, and Dict-3 \n",
    "\n",
    "A sample code to call the function below\n",
    "\n",
    "Hotspots = Hot_Spot_Identification (Dict-2,Dict-3):\n",
    "\n",
    "\n",
    "\n",
    "\n",
    "##### Output will return a dictionary with the ID of hot spots with its value as below.\n",
    "\n",
    "Hotspots = {E1:.55,E5:.12,E9:.888,....}"
   ]
  },
  {
   "cell_type": "markdown",
   "id": "344ef1b1",
   "metadata": {},
   "source": [
    "## Read the Text file"
   ]
  },
  {
   "cell_type": "code",
   "execution_count": 9,
   "id": "cbfde020",
   "metadata": {},
   "outputs": [],
   "source": [
    "with open('mesh_nodes.txt') as node:\n",
    "    lines_n = node.readlines()\n",
    "with open('mesh_values.txt') as value:#read the value of each element\n",
    "    lines_v = value.readlines()\n",
    "with open('mesh_element.txt') as element: #read the nodes in each element\n",
    "    lines_e = element.readlines()"
   ]
  },
  {
   "cell_type": "code",
   "execution_count": 10,
   "id": "6e6cc7aa",
   "metadata": {},
   "outputs": [],
   "source": [
    "#lines_n"
   ]
  },
  {
   "cell_type": "code",
   "execution_count": 11,
   "id": "0805f38c",
   "metadata": {
    "scrolled": false
   },
   "outputs": [],
   "source": [
    "#lines_v"
   ]
  },
  {
   "cell_type": "code",
   "execution_count": 12,
   "id": "412cad76",
   "metadata": {},
   "outputs": [],
   "source": [
    "#lines_e"
   ]
  },
  {
   "cell_type": "markdown",
   "id": "da16686c",
   "metadata": {},
   "source": [
    "## Defining Nescessary Functions"
   ]
  },
  {
   "cell_type": "markdown",
   "id": "162350ce",
   "metadata": {},
   "source": [
    "##### Functions for Data clearning and Txt to Dict convertion"
   ]
  },
  {
   "cell_type": "code",
   "execution_count": 13,
   "id": "e1acaf81",
   "metadata": {},
   "outputs": [],
   "source": [
    "#Converting all the value txts into dict\n",
    "def Values_To_Dic(lines_v):\n",
    "    l=[]\n",
    "    d_values={}\n",
    "    for x in lines_v:\n",
    "        p=x.strip()\n",
    "        p=p.replace(\" \",\"\")\n",
    "        p=p.replace(\"'\",\"\")\n",
    "        p=p.split(\",\")\n",
    "\n",
    "        if len(p) < 2:\n",
    "            continue\n",
    "        else:\n",
    "            d_values[int(p[0])]=float(p[1])\n",
    "    return (d_values)\n"
   ]
  },
  {
   "cell_type": "code",
   "execution_count": 14,
   "id": "8a774598",
   "metadata": {
    "scrolled": true
   },
   "outputs": [],
   "source": [
    "#converting all the Elements test into dictionary\n",
    "def Elements_To_Dic (lines_e):\n",
    "    l=[]\n",
    "    d_elements={}\n",
    "    for x in lines_e:\n",
    "        p=x.strip()\n",
    "        p=p.replace(\" \",\"\")\n",
    "        p=p.replace(\"'\",\"\")\n",
    "        p=p.split(\",\")\n",
    "        if len(p) < 4:\n",
    "            continue\n",
    "        else:\n",
    "            d_elements[int(p[0])]=[int(p[1]),int(p[2]),int(p[3])]\n",
    "    return (d_elements)"
   ]
  },
  {
   "cell_type": "markdown",
   "id": "6812eaab",
   "metadata": {},
   "source": [
    "##### Functions to identify the Hot spots in the Mesh Data"
   ]
  },
  {
   "cell_type": "code",
   "execution_count": 28,
   "id": "44e4347c",
   "metadata": {
    "scrolled": true
   },
   "outputs": [],
   "source": [
    "# TO FIND THE NEIGHBHOURS OF EACH NODE and Hot Spots\n",
    "def Hot_Spot_Identification (nodes,value):\n",
    "    hot_spot,hot_spots=[],{}\n",
    "    for k,v in nodes.items(): #k=1, v=[1,2,3]\n",
    "        neighbours,neighbours_val=[],[]\n",
    "        for k1,v1 in nodes.items():#v=[0,1,2]\n",
    "            if any(x in v1 for x in v) :\n",
    "                if k1==k:\n",
    "                    continue\n",
    "                else:\n",
    "                    neighbours.append(k1) #[1,2,5,8,9]\n",
    "                    neighbours_val.append(value[k1]) #[.55,.88,.95,.88]\n",
    "                    \n",
    "        if max(neighbours_val) < value[k]:\n",
    "            hot_spot.append(k)\n",
    "            hot_spots[k]=value[k]\n",
    "    return hot_spots"
   ]
  },
  {
   "cell_type": "markdown",
   "id": "a3a73605",
   "metadata": {},
   "source": [
    "## Calling Functions"
   ]
  },
  {
   "cell_type": "markdown",
   "id": "11267daa",
   "metadata": {},
   "source": [
    "##### Below functions to conver the txt format into dictionary format and Data cleaning"
   ]
  },
  {
   "cell_type": "code",
   "execution_count": 18,
   "id": "ec5e30e6",
   "metadata": {
    "scrolled": true
   },
   "outputs": [],
   "source": [
    "d_elements=Elements_To_Dic (lines_e)\n",
    "d_values=Values_To_Dic(lines_v)"
   ]
  },
  {
   "cell_type": "markdown",
   "id": "e7bff442",
   "metadata": {},
   "source": [
    "##### Below functions to Identify the Hot spots in the Mesh Data"
   ]
  },
  {
   "cell_type": "code",
   "execution_count": 262,
   "id": "b3ec8a3f",
   "metadata": {},
   "outputs": [
    {
     "name": "stdout",
     "output_type": "stream",
     "text": [
      "2\n",
      "11\n",
      "Total runtime of the code is 0.0010018348693847656\n"
     ]
    }
   ],
   "source": [
    "import time\n",
    "begin = time.time()\n",
    "Hotspots=Hot_Spot_Identification(nodes,values) # pass the dict with elements nodes and elements value ,\n",
    "end = time.time()\n",
    "print(f\"Total runtime of the code is {end-begin}\")"
   ]
  },
  {
   "cell_type": "code",
   "execution_count": 20,
   "id": "e3c9ec30",
   "metadata": {
    "scrolled": true
   },
   "outputs": [
    {
     "data": {
      "text/plain": [
       "{0: 0.118852,\n",
       " 8: 4.36126,\n",
       " 16: 9.10418,\n",
       " 105: 2.28934,\n",
       " 112: 7.0217,\n",
       " 180: 0.0766857,\n",
       " 189: 3.1294,\n",
       " 196: 5.41041}"
      ]
     },
     "execution_count": 20,
     "metadata": {},
     "output_type": "execute_result"
    }
   ],
   "source": [
    "Hotspots"
   ]
  },
  {
   "cell_type": "markdown",
   "id": "86115fce",
   "metadata": {},
   "source": [
    "###  Dummy Data To Check and Trial Run to check"
   ]
  },
  {
   "cell_type": "code",
   "execution_count": 19,
   "id": "e624ea99",
   "metadata": {},
   "outputs": [],
   "source": [
    "d1 = {'E1':[28,26,27],'E2':[1,26,27],'E3':[1,2,26],'E4':[1,27,19],'E5':[26,28,29],'E6':[2,25,26],'E7':[24,26,30],\n",
    "      'E8':[26,29,30],'E9':[24,30,31],'E10':[24,25,26],'E11':[6,13,24],\n",
    "   'E12':[6,7,13],'E14':[2,6,25],'E15':[2,5,6] ,'E17':[1,2,3] ,'E18':[1,3,18],'E19':[3,9,18]}\n",
    "\n",
    "v1={'E1':18,'E2':14,'E3':20,'E4':10,'E5':13,'E6':11,'E7':10,'E8':9,'E9':11.5,\n",
    "   'E10':9,'E11':13,'E12':12,'E13':9,'E14':4,'E15':10,'E16':14,\n",
    "   'E17':1,'E18':10,'E19':11}"
   ]
  },
  {
   "cell_type": "markdown",
   "id": "5951c180",
   "metadata": {},
   "source": [
    "## Data shared by ion for test"
   ]
  },
  {
   "cell_type": "code",
   "execution_count": 40,
   "id": "e4897333",
   "metadata": {},
   "outputs": [],
   "source": [
    "cordinate={0: [0.0, 0.0], 1: [0.0, 1.0], 2: [0.0, 2.0], 3: [0.0, 3.0], 11: [1.0, 0.0], 12: [1.0, 1.0], 13: [1.0, 2.0], 14: [1.0, 3.0], 22: [2.0, 0.0], 23: [2.0, 1.0], 24: [2.0, 2.0], 25: [2.0, 3.0], 33: [3.0, 0.0], 34: [3.0, 1.0], 35: [3.0, 2.0], 36: [3.0, 3.0], 44: [4.0, 0.0], 45: [4.0, 1.0], 46: [4.0, 2.0], 47: [4.0, 3.0], 55: [5.0, 0.0], 56: [5.0, 1.0], 57: [5.0, 2.0], 58: [5.0, 3.0], 66: [6.0, 0.0], 67: [6.0, 1.0], 68: [6.0, 2.0], 69: [6.0, 3.0], 77: [7.0, 0.0], 78: [7.0, 1.0], 79: [7.0, 2.0], 80: [7.0, 3.0]}"
   ]
  },
  {
   "cell_type": "code",
   "execution_count": 39,
   "id": "c5927a47",
   "metadata": {},
   "outputs": [],
   "source": [
    "v1={0: 0.2, 1: 0.2, 2: 0.2, 3: 0.2, 4: 0.2, 5: 0.2, 6: 0.2, 7: 0.49, 8: 0.2, 9: 0.2, 10: 0.5, 11: 0.2, 12: 0.2, 13: 0.2, 14: 0.2, 15: 0.2, 16: 0.2, 17: 0.47, 18: 0.2, 19: 0.2, 20: 0.2, 21: 0.2, 22: 0.46, 23: 0.2, 24: 0.2, 25: 0.44, 26: 0.2, 27: 0.2, 28: 0.2, 29: 0.2, 30: 0.2, 31: 0.2, 32: 0.2, 33: 0.2, 34: 0.2, 35: 0.2, 36: 0.38, 37: 0.38}"
   ]
  },
  {
   "cell_type": "code",
   "execution_count": 41,
   "id": "a8d6af26",
   "metadata": {},
   "outputs": [],
   "source": [
    "e1={0: [0, 1, 12], 1: [1, 2, 13], 2: [2, 3, 14], 3: [0, 11, 12], 4: [1, 12, 13], 5: [2, 13, 14], 6: [11, 12, 23], 7: [12, 13, 24], 8: [13, 14, 25], 9: [11, 22, 23], 10: [12, 23, 24], 11: [13, 24, 25], 12: [22, 23, 34], 13: [23, 24, 35], 14: [24, 25, 36], 15: [22, 33, 34], 16: [23, 34, 35], 17: [24, 35, 36], 18: [33, 34, 45], 19: [34, 35, 46], 20: [35, 36, 47], 21: [33, 44, 45], 22: [34, 45, 46], 23: [35, 46, 47], 24: [44, 45, 56], 25: [45, 46, 57], 26: [46, 47, 58], 27: [44, 55, 56], 28: [45, 56, 57], 29: [46, 57, 58], 30: [55, 56, 67], 31: [56, 57, 68], 32: [57, 58, 69], 33: [56, 67, 68], 34: [57, 68, 69], 35: [67, 68, 79], 36: [68, 69, 80], 37: [68, 79, 80]}"
   ]
  },
  {
   "cell_type": "markdown",
   "id": "579aaf51",
   "metadata": {},
   "source": [
    "### CODE UPDATED WITH FUNCTIONS AND DEFINITIONS"
   ]
  },
  {
   "cell_type": "code",
   "execution_count": 300,
   "id": "86a4a9b4",
   "metadata": {},
   "outputs": [],
   "source": [
    "# k = element to find the neibhour\n",
    "# n= node of the element-k\n",
    "# nodes =all the elements with nodes\n",
    "# value =all the elements with it values\n",
    "\n",
    "def Neighbhour (nodes,value,k,n):\n",
    "    neighbours_nodes,neighbours_val={},{}\n",
    "    for k1,v1 in nodes.items():#n=[0,1,2]\n",
    "        if any(x in v1 for x in n) :\n",
    "            if k1==k: continue\n",
    "            else:neighbours_nodes[k1],neighbours_val[k1]=v1,value[k1]\n",
    "    return neighbours_nodes,neighbours_val #return the dict with neibhor elemets values and nodes\n",
    "\n",
    "    \n",
    "def Hotspots(k,v,neighbours_val):\n",
    "    vals=[]\n",
    "    for k2,v2 in neighbours_val.items():\n",
    "        vals.append(v2)\n",
    "    if max(vals) < v:# or max(vals)== v:\n",
    "        return k #retuning a value in case it is a hotspot"
   ]
  },
  {
   "cell_type": "code",
   "execution_count": 310,
   "id": "bcf6dd3e",
   "metadata": {},
   "outputs": [
    {
     "name": "stdout",
     "output_type": "stream",
     "text": [
      "[]\n",
      "id: 1 value: 18 neighor: {2: 14, 3: 20, 4: 10, 5: 13, 6: 11, 7: 10, 8: 9, 10: 9}\n",
      "[]\n",
      "id: 2 value: 0 neighor: {1: 18, 3: 20, 4: 10, 5: 13, 6: 11, 7: 10, 8: 9, 10: 9, 17: 1, 18: 10}\n",
      "[]\n",
      "{1: [28, 26, 27], 2: [1, 26, 27], 4: [1, 27, 19], 5: [26, 28, 29], 6: [2, 25, 26], 7: [24, 26, 30], 8: [26, 29, 30], 10: [24, 25, 26], 14: [2, 6, 25], 15: [2, 5, 6], 16: [5, 3, 2], 17: [1, 2, 3], 18: [1, 3, 18]}\n",
      "id: 3 value: 0 neighor: {1: 18, 2: 14, 4: 10, 5: 13, 6: 11, 7: 10, 8: 9, 10: 9, 14: 4, 15: 10, 16: 14, 17: 1, 18: 10}\n",
      "[]\n",
      "id: 4 value: 10 neighor: {1: 18, 2: 14, 3: 20, 17: 1, 18: 10}\n",
      "[]\n",
      "id: 5 value: 13 neighor: {1: 18, 2: 14, 3: 20, 6: 11, 7: 10, 8: 9, 10: 9}\n",
      "[]\n",
      "id: 6 value: 11 neighor: {1: 18, 2: 14, 3: 20, 5: 13, 7: 10, 8: 9, 10: 9, 14: 4, 15: 10, 16: 14, 17: 1}\n",
      "[]\n",
      "id: 7 value: 10 neighor: {1: 18, 2: 14, 3: 20, 5: 13, 6: 11, 8: 9, 9: 11.5, 10: 9, 11: 13}\n",
      "[]\n",
      "id: 8 value: 9 neighor: {1: 18, 2: 14, 3: 20, 5: 13, 6: 11, 7: 10, 9: 11.5, 10: 9}\n",
      "[]\n",
      "id: 9 value: 11.5 neighor: {7: 10, 8: 9, 10: 9, 11: 13}\n",
      "[]\n",
      "id: 10 value: 9 neighor: {1: 18, 2: 14, 3: 20, 5: 13, 6: 11, 7: 10, 8: 9, 9: 11.5, 11: 13, 14: 4}\n",
      "[]\n",
      "id: 11 value: 13 neighor: {7: 10, 9: 11.5, 10: 9, 12: 12, 14: 4, 15: 10}\n",
      "[11]\n",
      "id: 12 value: 500 neighor: {11: 13, 14: 4, 15: 10}\n",
      "[11, 12]\n",
      "id: 13 value: 900 neighor: {6: 11, 7: 10, 9: 11.5, 10: 9, 11: 13, 12: 12, 14: 4, 15: 10}\n",
      "[11, 12, 13]\n",
      "id: 14 value: 4 neighor: {3: 20, 6: 11, 10: 9, 11: 13, 12: 12, 15: 10, 16: 14, 17: 1}\n",
      "[11, 12, 13]\n",
      "id: 15 value: 10 neighor: {3: 20, 6: 11, 11: 13, 12: 12, 14: 4, 16: 14, 17: 1}\n",
      "[11, 12, 13]\n",
      "id: 16 value: 14 neighor: {3: 20, 6: 11, 14: 4, 15: 10, 17: 1, 18: 10, 19: 11}\n",
      "[11, 12, 13]\n",
      "id: 17 value: 1 neighor: {2: 14, 3: 20, 4: 10, 6: 11, 14: 4, 15: 10, 16: 14, 18: 10, 19: 11}\n",
      "[11, 12, 13]\n",
      "id: 18 value: 10 neighor: {2: 14, 3: 20, 4: 10, 16: 14, 17: 1, 19: 11}\n",
      "[11, 12, 13]\n",
      "id: 19 value: 11 neighor: {16: 14, 17: 1, 18: 10}\n",
      "[11, 12, 13]\n",
      "id: 38 value: 11 neighor: {2: 14, 3: 20, 4: 10, 17: 1, 18: 10, 19: 11}\n",
      "[11, 12, 13]\n"
     ]
    }
   ],
   "source": [
    "all_hotspots=[]\n",
    "print(all_hotspots)\n",
    "for k,n in nodes.items(): #k=1, n=[1,2,3]\n",
    "    neighbours,neighbours_val=[],[]\n",
    "    neighbours_nodes,neighbours_val =Neighbhour(e1,v1,k,n)\n",
    "    if k == 3:\n",
    "        print(neighbours_nodes)\n",
    "    print('id:',k,'value:',values[k],'neighor:',neighbours_val)\n",
    "    hotspot=Hotspots(k,values[k],neighbours_val)\n",
    "    if hotspot:all_hotspots.append(hotspot)\n",
    "    print(all_hotspots)"
   ]
  },
  {
   "cell_type": "code",
   "execution_count": 303,
   "id": "99e87374",
   "metadata": {},
   "outputs": [
    {
     "data": {
      "text/plain": [
       "[11, 12, 13]"
      ]
     },
     "execution_count": 303,
     "metadata": {},
     "output_type": "execute_result"
    }
   ],
   "source": [
    "all_hotspots"
   ]
  },
  {
   "cell_type": "code",
   "execution_count": 299,
   "id": "ebdb810a",
   "metadata": {},
   "outputs": [],
   "source": [
    "nodes = {1:[28,26,27],2:[1,26,27],3:[1,2,26],4:[1,27,19],5:[26,28,29],6:[2,25,26],7:[24,26,30],8:[26,29,30],9:[24,30,31],10:[24,25,26],11:[6,13,24],\n",
    "12:[6,7,13],13:[24,25,6],14:[2,6,25],15:[2,5,6] ,16:[5,3,2],17:[1,2,3] ,18:[1,3,18],19:[3,9,18],38:[1,19,18]}\n",
    "\n",
    "values={1:18,2:0,3:0,4:10,5:13,6:11,7:10,8:9,9:11.5,\n",
    "   10:9,11:13,12:500,13:900,14:4,15:10,16:14,17:1,18:10,19:11,38:11}"
   ]
  },
  {
   "cell_type": "code",
   "execution_count": 260,
   "id": "37405860",
   "metadata": {},
   "outputs": [
    {
     "name": "stdout",
     "output_type": "stream",
     "text": [
      "{1: [28, 26, 27], 2: [1, 26, 27], 4: [1, 27, 19], 5: [26, 28, 29], 6: [2, 25, 26], 7: [24, 26, 30], 8: [26, 29, 30], 10: [24, 25, 26], 14: [2, 6, 25], 15: [2, 5, 6], 16: [5, 3, 2], 17: [1, 2, 3], 18: [1, 3, 18]}\n",
      "Total runtime of the code is 0.00099945068359375\n",
      "[2, 3, 11]\n"
     ]
    }
   ],
   "source": [
    "import time\n",
    "begin = time.time()\n",
    "all_hotspots=[]\n",
    "for k,n in nodes.items(): #k=1, n=[1,2,3]\n",
    "    neighbours,neighbours_val=[],[]\n",
    "    neighbours_nodes,neighbours_val =Neighbhour(e1,v1,k,n)\n",
    "    if k == 3:\n",
    "        print(neighbours_nodes)\n",
    "    hotspot=Hotspots(k,values[k],neighbours_val)\n",
    "    if hotspot:all_hotspots.append(hotspot)\n",
    "end = time.time()\n",
    "print(f\"Total runtime of the code is {end-begin}\")\n",
    "print(all_hotspots)"
   ]
  },
  {
   "cell_type": "code",
   "execution_count": null,
   "id": "6ae40ac2",
   "metadata": {},
   "outputs": [],
   "source": []
  },
  {
   "cell_type": "code",
   "execution_count": null,
   "id": "5b9f900c",
   "metadata": {},
   "outputs": [],
   "source": []
  },
  {
   "cell_type": "code",
   "execution_count": null,
   "id": "1191e6ee",
   "metadata": {},
   "outputs": [],
   "source": []
  },
  {
   "cell_type": "code",
   "execution_count": 171,
   "id": "b01a58cb",
   "metadata": {
    "scrolled": true
   },
   "outputs": [
    {
     "name": "stdout",
     "output_type": "stream",
     "text": [
      "Total runtime of the code is 0.0\n"
     ]
    }
   ],
   "source": [
    "import time\n",
    "begin = time.time()\n",
    "neighbours_nodes,neighbours_val =Neighbhour(e1,v1,2,[1,26,27])\n",
    "hotspot=Hotspots(2,55,neighbours_val) # pass the dict with elements nodes and elements value ,\n",
    "end = time.time()\n",
    "print(f\"Total runtime of the code is {end-begin}\")"
   ]
  },
  {
   "cell_type": "code",
   "execution_count": null,
   "id": "8694d0c6",
   "metadata": {},
   "outputs": [],
   "source": []
  },
  {
   "cell_type": "code",
   "execution_count": null,
   "id": "6a7ee336",
   "metadata": {},
   "outputs": [],
   "source": []
  }
 ],
 "metadata": {
  "kernelspec": {
   "display_name": "Python 3",
   "language": "python",
   "name": "python3"
  },
  "language_info": {
   "codemirror_mode": {
    "name": "ipython",
    "version": 3
   },
   "file_extension": ".py",
   "mimetype": "text/x-python",
   "name": "python",
   "nbconvert_exporter": "python",
   "pygments_lexer": "ipython3",
   "version": "3.8.8"
  }
 },
 "nbformat": 4,
 "nbformat_minor": 5
}
